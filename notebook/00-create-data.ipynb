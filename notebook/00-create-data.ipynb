{
 "cells": [
  {
   "cell_type": "markdown",
   "id": "669cbe99-719b-4e48-bb14-b852faa70f4a",
   "metadata": {},
   "source": [
    "# Create Data"
   ]
  },
  {
   "cell_type": "markdown",
   "id": "e0e2eb2b-eddf-4115-a21b-0a914a305f93",
   "metadata": {},
   "source": [
    "## 1. Setup"
   ]
  },
  {
   "cell_type": "code",
   "execution_count": 1,
   "id": "350db150-96f4-4ad2-956d-cea18e130280",
   "metadata": {
    "tags": []
   },
   "outputs": [
    {
     "name": "stderr",
     "output_type": "stream",
     "text": [
      "/opt/conda/lib/python3.10/site-packages/tqdm/auto.py:22: TqdmWarning: IProgress not found. Please update jupyter and ipywidgets. See https://ipywidgets.readthedocs.io/en/stable/user_install.html\n",
      "  from .autonotebook import tqdm as notebook_tqdm\n"
     ]
    }
   ],
   "source": [
    "import pandas as pd\n",
    "from datasets import load_dataset"
   ]
  },
  {
   "cell_type": "markdown",
   "id": "9d22abb1-96ad-4175-a5f5-48185aeea741",
   "metadata": {},
   "source": [
    "## Contradiction Generation"
   ]
  },
  {
   "cell_type": "code",
   "execution_count": 2,
   "id": "3d79a282-22a9-450f-bf18-edb5c7c21a1a",
   "metadata": {
    "tags": []
   },
   "outputs": [
    {
     "name": "stderr",
     "output_type": "stream",
     "text": [
      "Found cached dataset klue (/root/.cache/huggingface/datasets/klue/nli/1.0.0/e0fc3bc3de3eb03be2c92d72fd04a60ecc71903f821619cb28ca0e1e29e4233e)\n",
      "100%|██████████| 2/2 [00:00<00:00, 107.85it/s]\n"
     ]
    }
   ],
   "source": [
    "raw_data = load_dataset('klue', 'nli')['train']"
   ]
  },
  {
   "cell_type": "code",
   "execution_count": 9,
   "id": "ba0b3da4-2cfd-479c-b03c-e00e94389553",
   "metadata": {
    "tags": []
   },
   "outputs": [],
   "source": [
    "data = []\n",
    "for item in raw_data:\n",
    "    if item['label'] != 2: continue\n",
    "    \n",
    "    data.append({\n",
    "        'instruction': '주어진 문장과 모순되는 문장을 작성하세요.',\n",
    "        'input': item['premise'],\n",
    "        'output': item['hypothesis']\n",
    "    })"
   ]
  },
  {
   "cell_type": "code",
   "execution_count": 12,
   "id": "273898b2-c578-406f-bbec-514e6d2bd387",
   "metadata": {
    "tags": []
   },
   "outputs": [],
   "source": [
    "data = pd.DataFrame(data)"
   ]
  },
  {
   "cell_type": "code",
   "execution_count": 13,
   "id": "51d2164a-37f5-494a-985a-509d367b92c6",
   "metadata": {
    "tags": []
   },
   "outputs": [],
   "source": [
    "data.to_csv('../data/contradiction-generation.csv', index=False, encoding='utf-8-sig')"
   ]
  },
  {
   "cell_type": "code",
   "execution_count": null,
   "id": "abf2bdf8-aa67-46f5-b523-a5060b79c190",
   "metadata": {},
   "outputs": [],
   "source": []
  }
 ],
 "metadata": {
  "kernelspec": {
   "display_name": "Python 3 (ipykernel)",
   "language": "python",
   "name": "python3"
  },
  "language_info": {
   "codemirror_mode": {
    "name": "ipython",
    "version": 3
   },
   "file_extension": ".py",
   "mimetype": "text/x-python",
   "name": "python",
   "nbconvert_exporter": "python",
   "pygments_lexer": "ipython3",
   "version": "3.10.9"
  }
 },
 "nbformat": 4,
 "nbformat_minor": 5
}
